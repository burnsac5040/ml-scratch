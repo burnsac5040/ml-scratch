{
 "cells": [
  {
   "cell_type": "code",
   "execution_count": 1,
   "metadata": {},
   "outputs": [],
   "source": [
    "import numpy as np\n",
    "import matplotlib.pyplot as plt\n",
    "from sklearn import datasets\n",
    "# %matplotlib inline\n",
    "plt.style.use(['dark_background'])"
   ]
  },
  {
   "cell_type": "code",
   "execution_count": 2,
   "metadata": {},
   "outputs": [
    {
     "name": "stdout",
     "output_type": "stream",
     "text": [
      "X_train: (455, 30), X_test (114, 30)\n",
      "y_train: (455,), y_test: (114,)\n"
     ]
    }
   ],
   "source": [
    "dataset = datasets.load_breast_cancer()\n",
    "X, y = dataset.data, dataset.target\n",
    "\n",
    "idx = list(np.arange(X.shape[0]))\n",
    "np.random.shuffle(idx)\n",
    "\n",
    "train_idx, test_idx = np.split(idx, [int(0.8*len(idx))])\n",
    "\n",
    "X_train, X_test = X[train_idx], X[test_idx]\n",
    "y_train, y_test = y[train_idx], y[test_idx]\n",
    "\n",
    "print('X_train: %s, X_test %s\\ny_train: %s, y_test: %s' % (X_train.shape, X_test.shape, y_train.shape, y_test.shape))"
   ]
  },
  {
   "cell_type": "code",
   "execution_count": 3,
   "metadata": {},
   "outputs": [],
   "source": [
    "from timeit import default_timer as t\n",
    "\n",
    "class LogisticRegression:\n",
    "    def __init__(self, lr=0.001, n_iters=1000, bias=True):\n",
    "        self.lr = lr\n",
    "        self.n_iters = n_iters\n",
    "        self.w = None\n",
    "        self.b = bias\n",
    "\n",
    "    def _sigmoid(self, z):\n",
    "        return 1 / (1 + np.exp(-z))\n",
    "        \n",
    "    def fit(self, X, y):\n",
    "        if isinstance(self.b, bool):\n",
    "            X = np.hstack([np.ones([X.shape[0], 1]), X])\n",
    "\n",
    "        n_samp, n_feat = X.shape\n",
    "        self.w = np.random.rand(n_feat)\n",
    "        \n",
    "        start = t()\n",
    "        for _ in range(self.n_iters):\n",
    "            z = np.dot(X, self.w)\n",
    "            y_pred = self._sigmoid(z)\n",
    "            dw = (1 / n_samp) * np.dot(X.T, (y_pred - y))\n",
    "            self.w -= self.lr * dw\n",
    "            \n",
    "        end = t()\n",
    "        print(f'Elapsed time: {end - start:.4f}')\n",
    "            \n",
    "    def predict_proba(self, X, threshold=0.5):\n",
    "        if isinstance(self.b, bool):\n",
    "            X = np.hstack([np.ones([X.shape[0], 1]), X])\n",
    "\n",
    "        probs = self._sigmoid(np.dot(X, self.w))\n",
    "        clss = probs >= threshold\n",
    "        return probs, clss"
   ]
  },
  {
   "cell_type": "code",
   "execution_count": 4,
   "metadata": {},
   "outputs": [
    {
     "name": "stdout",
     "output_type": "stream",
     "text": [
      "Elapsed time: 0.0477\n",
      "Accuracy: 0.868421052631579\n"
     ]
    }
   ],
   "source": [
    "lr = LogisticRegression()\n",
    "lr.fit(X_train, y_train)\n",
    "_, pred = lr.predict_proba(X_test)\n",
    "\n",
    "print(f'Accuracy: {np.sum(y_test == pred.astype(int)) / y_test.size}')"
   ]
  }
 ],
 "metadata": {
  "jupytext": {
   "formats": "ipynb,py"
  },
  "kernelspec": {
   "display_name": "Python 3",
   "language": "python",
   "name": "python3"
  },
  "language_info": {
   "codemirror_mode": {
    "name": "ipython",
    "version": 3
   },
   "file_extension": ".py",
   "mimetype": "text/x-python",
   "name": "python",
   "nbconvert_exporter": "python",
   "pygments_lexer": "ipython3",
   "version": "3.8.5-final"
  }
 },
 "nbformat": 4,
 "nbformat_minor": 2
}
